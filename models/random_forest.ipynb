{
 "cells": [
  {
   "cell_type": "code",
   "execution_count": 3,
   "id": "3b4e6f23",
   "metadata": {},
   "outputs": [
    {
     "name": "stdout",
     "output_type": "stream",
     "text": [
      "   duration  reverseDelta  hostIP_int  ipProto  IoTPort  hostPort  \\\n",
      "0     0.010         0.010  3232235777       17    51151        53   \n",
      "1     0.000         0.000  4026531834       17    47087      1900   \n",
      "2     0.000         0.000  3232235777       17    26321        53   \n",
      "3     0.006         0.001  3232235777        6    41178     40480   \n",
      "4   240.117         0.007  2899909166        6    60388       443   \n",
      "\n",
      "   PacketCount  BytesCount  reversePacketCount  reverseBytesCount  ...  \\\n",
      "0            1          59                   1                 75  ...   \n",
      "1            1         294                   0                  0  ...   \n",
      "2            1          75                   0                  0  ...   \n",
      "3            7         452                   6               3238  ...   \n",
      "4           19        5053                  21               2021  ...   \n",
      "\n",
      "   reverseAvgPacketSize  reverseFlowExists  remote  broadcast  HTTP  HTTPS  \\\n",
      "0                    47                  1       0          0     0      0   \n",
      "1                     0                  0       1          0     0      0   \n",
      "2                     0                  0       0          0     0      0   \n",
      "3                  1459                  1       0          0     0      0   \n",
      "4                   115                  1       1          0     0      1   \n",
      "\n",
      "   DNS  NTP  TCP_others  UDP_others  \n",
      "0    1    0           0           0  \n",
      "1    0    0           0           1  \n",
      "2    1    0           0           0  \n",
      "3    0    0           1           0  \n",
      "4    0    0           1           0  \n",
      "\n",
      "[5 rows x 39 columns]\n",
      "               IoTMac\n",
      "0  ec:f0:0e:55:25:39:\n",
      "1  00:1b:c7:fa:c3:e6:\n",
      "2  04:5d:4b:a4:d0:2e:\n",
      "3  04:5d:4b:a4:d0:2e:\n",
      "4  6c:5a:b5:56:39:3e:\n",
      "Accuracy: 0.94845\n"
     ]
    },
    {
     "data": {
      "text/plain": [
       "<Axes: >"
      ]
     },
     "execution_count": 3,
     "metadata": {},
     "output_type": "execute_result"
    },
    {
     "data": {
      "image/png": "[encoded data removed]",
      "text/plain": [
       "<Figure size 640x480 with 2 Axes>"
      ]
     },
     "metadata": {},
     "output_type": "display_data"
    }
   ],
   "source": [
    "# -*- coding: utf-8 -*-\n",
    "\"\"\"\n",
    "Created on Tue Oct 29 11:59:39 2024\n",
    "\n",
    "@author: camer\n",
    "\"\"\"\n",
    "\n",
    "import pandas as pd\n",
    "import numpy as np\n",
    "from sklearn.model_selection import train_test_split\n",
    "from sklearn.ensemble import RandomForestClassifier\n",
    "from sklearn.metrics import accuracy_score\n",
    "from sklearn.feature_selection import SequentialFeatureSelector as sfs\n",
    "from sklearn.metrics import confusion_matrix, ConfusionMatrixDisplay\n",
    "\n",
    "seed = 42\n",
    "column_names = [\n",
    "    \"name\", \"start_date\", \"start_time\", \"duration\", \"reverseDelta\", \"IoTMac\", \"hostMac\", \n",
    "    \"IoTIP\", \"IoTIP_int\", \"hostIP\", \"hostIP_int\", \"ipProto\", \"IoTPort\", \"hostPort\", \n",
    "    \"PacketCount\", \"BytesCount\", \"reversePacketCount\", \"reverseBytesCount\", \"SmallPktCount\", \n",
    "    \"LargePktCount\", \"NonEmptyPktCount\", \"DataByteCount\", \"AvgIAT\", \"FirstNonEmptyPktSize\", \n",
    "    \"MaxPktSize\", \"StdevPayloadSize\", \"StdevIAT\", \"AvgPacketSize\", \"reverseSmallPktCount\", \n",
    "    \"reverseLargePktCount\", \"reverseNonEmptyPktCount\", \"reverseDataByteCount\", \"reverseAvgIAT\", \n",
    "    \"PktSize\", \"reverseMaxPktSize\", \"reverseStdevPayloadSize\", \"reverseStdevIAT\", \n",
    "    \"reverseAvgPacketSize\", \"reverseFlowExists\", \"remote\", \"broadcast\", \"HTTP\", \"HTTPS\", \"DNS\", \n",
    "    \"NTP\", \"TCP_others\", \"UDP_others\", \"year_month\"\n",
    "]\n",
    "\n",
    "# Load data and clean 'name' column\n",
    "df = pd.read_csv('sample2.csv', names=column_names)\n",
    "df['name'] = df['name'].str.replace(r'_\\d{4}_\\d{2}\\.csv$', '', regex=True)\n",
    "\n",
    "# Step 3: Encode 'name' as dummy variables\n",
    "target_columns = ['IoTMac']\n",
    "y = df.filter(items = target_columns)\n",
    "df = df.drop(['name','start_date', 'start_time', 'year_month','IoTIP', 'IoTIP_int', 'hostMac', 'IoTMac', 'hostIP'], axis=1)\n",
    "df2 = pd.get_dummies(df, drop_first=True)\n",
    "\n",
    "X = df2\n",
    "print(X.head())\n",
    "print(y.head())\n",
    "# Split the dataset into training and test sets 20-80\n",
    "X_train, X_test, y_train, y_test = train_test_split(X, y.values.ravel(), test_size=0.2, random_state=seed)\n",
    "\n",
    "# Initialize and train the Random Forest classifier\n",
    "model = RandomForestClassifier(n_estimators=25, random_state=seed)\n",
    "'''\n",
    "selector = sfs(model, direction='forward', cv=2)\n",
    "selector.fit(X_train,y_train)\n",
    "features = selector.get_feature_names_out(list(X))\n",
    "'''\n",
    "\n",
    "model.fit(X_train, y_train)\n",
    "\n",
    "# Make predictions and evaluate the model\n",
    "\n",
    "y_pred = model.predict(X_test)\n",
    "accuracy = accuracy_score(y_test, y_pred)\n",
    "\n",
    "print(f'Accuracy: {accuracy:.5f}')\n",
    "cmatrix = confusion_matrix(y_test, y_pred)\n",
    "for f in cmatrix:\n",
    "    f += 1\n",
    "\n",
    "\n",
    "\n",
    "import seaborn as sns\n",
    "from matplotlib.colors import LogNorm\n",
    "sns.heatmap(cmatrix, annot=False, cmap='coolwarm', norm=LogNorm())"
   ]
  },
  {
   "cell_type": "code",
   "execution_count": null,
   "id": "324527a9",
   "metadata": {},
   "outputs": [],
   "source": []
  }
 ],
 "metadata": {
  "kernelspec": {
   "display_name": "Python 3 (ipykernel)",
   "language": "python",
   "name": "python3"
  },
  "language_info": {
   "codemirror_mode": {
    "name": "ipython",
    "version": 3
   },
   "file_extension": ".py",
   "mimetype": "text/x-python",
   "name": "python",
   "nbconvert_exporter": "python",
   "pygments_lexer": "ipython3",
   "version": "3.11.4"
  }
 },
 "nbformat": 4,
 "nbformat_minor": 5
}
