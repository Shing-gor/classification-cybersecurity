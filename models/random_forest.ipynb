{
 "cells": [
  {
   "cell_type": "code",
   "execution_count": 1,
   "id": "4c2ca251",
   "metadata": {},
   "outputs": [
    {
     "name": "stdout",
     "output_type": "stream",
     "text": [
      "   duration  reverseDelta  hostIP_int  ipProto  IoTPort  hostPort  \\\n",
      "0     0.000         0.000  4026531834       17    33033      1900   \n",
      "1     0.000         0.000  3232235777       17    33789        53   \n",
      "2     0.000         0.000  4026531834       17    46713      1900   \n",
      "3     0.434         0.012  1249732137        6    53460       443   \n",
      "4     0.000         0.000  4026531834       17    48008      1900   \n",
      "\n",
      "   PacketCount  BytesCount  reversePacketCount  reverseBytesCount  ...  \\\n",
      "0            1         294                   0                  0  ...   \n",
      "1            1          75                   0                  0  ...   \n",
      "2            1         294                   0                  0  ...   \n",
      "3           18        1986                  18              18612  ...   \n",
      "4            1         294                   0                  0  ...   \n",
      "\n",
      "   hostIP_74.125.204.188  hostIP_74.125.23.102  hostIP_74.125.23.188  \\\n",
      "0                      0                     0                     0   \n",
      "1                      0                     0                     0   \n",
      "2                      0                     0                     0   \n",
      "3                      0                     0                     0   \n",
      "4                      0                     0                     0   \n",
      "\n",
      "   hostIP_8.8.4.4  hostIP_8.8.8.8  hostIP_99.84.138.143  hostIP_99.84.138.70  \\\n",
      "0               0               0                     0                    0   \n",
      "1               0               0                     0                    0   \n",
      "2               0               0                     0                    0   \n",
      "3               0               0                     0                    0   \n",
      "4               0               0                     0                    0   \n",
      "\n",
      "   hostIP_99.84.143.77  hostIP_99.84.54.35  hostIP_99.84.59.93  \n",
      "0                    0                   0                   0  \n",
      "1                    0                   0                   0  \n",
      "2                    0                   0                   0  \n",
      "3                    0                   0                   0  \n",
      "4                    0                   0                   0  \n",
      "\n",
      "[5 rows x 260 columns]\n",
      "               IoTMac\n",
      "0  00:1b:c7:fa:c3:e6:\n",
      "1  48:d6:d5:92:96:a2:\n",
      "2  00:1b:c7:fa:c3:e6:\n",
      "3  04:5d:4b:a4:d0:2e:\n",
      "4  00:1b:c7:fa:c3:e6:\n",
      "Accuracy: 0.94000\n"
     ]
    },
    {
     "data": {
      "text/plain": [
       "<Axes: >"
      ]
     },
     "execution_count": 1,
     "metadata": {},
     "output_type": "execute_result"
    },
    {
     "data": {
      "image/png": "[encoded data removed]",
      "text/plain": [
       "<Figure size 640x480 with 2 Axes>"
      ]
     },
     "metadata": {},
     "output_type": "display_data"
    }
   ],
   "source": [
    "# -*- coding: utf-8 -*-\n",
    "\"\"\"\n",
    "Created on Tue Oct 29 11:59:39 2024\n",
    "\n",
    "@author: camer\n",
    "\"\"\"\n",
    "\n",
    "import pandas as pd\n",
    "import numpy as np\n",
    "from sklearn.model_selection import train_test_split\n",
    "from sklearn.ensemble import RandomForestClassifier\n",
    "from sklearn.metrics import accuracy_score\n",
    "from sklearn.feature_selection import SequentialFeatureSelector as sfs\n",
    "from sklearn.metrics import confusion_matrix, ConfusionMatrixDisplay\n",
    "\n",
    "seed = 42\n",
    "column_names = [\n",
    "    \"name\", \"start_date\", \"start_time\", \"duration\", \"reverseDelta\", \"IoTMac\", \"hostMac\", \n",
    "    \"IoTIP\", \"IoTIP_int\", \"hostIP\", \"hostIP_int\", \"ipProto\", \"IoTPort\", \"hostPort\", \n",
    "    \"PacketCount\", \"BytesCount\", \"reversePacketCount\", \"reverseBytesCount\", \"SmallPktCount\", \n",
    "    \"LargePktCount\", \"NonEmptyPktCount\", \"DataByteCount\", \"AvgIAT\", \"FirstNonEmptyPktSize\", \n",
    "    \"MaxPktSize\", \"StdevPayloadSize\", \"StdevIAT\", \"AvgPacketSize\", \"reverseSmallPktCount\", \n",
    "    \"reverseLargePktCount\", \"reverseNonEmptyPktCount\", \"reverseDataByteCount\", \"reverseAvgIAT\", \n",
    "    \"PktSize\", \"reverseMaxPktSize\", \"reverseStdevPayloadSize\", \"reverseStdevIAT\", \n",
    "    \"reverseAvgPacketSize\", \"reverseFlowExists\", \"remote\", \"broadcast\", \"HTTP\", \"HTTPS\", \"DNS\", \n",
    "    \"NTP\", \"TCP_others\", \"UDP_others\", \"year_month\"\n",
    "]\n",
    "\n",
    "# Load data and clean 'name' column\n",
    "df = pd.read_csv('sample.csv', names=column_names)\n",
    "df['name'] = df['name'].str.replace(r'_\\d{4}_\\d{2}\\.csv$', '', regex=True)\n",
    "\n",
    "# Step 3: Encode 'name' as dummy variables\n",
    "target_columns = ['IoTMac']\n",
    "y = df.filter(items = target_columns)\n",
    "df = df.drop(['name','start_date', 'start_time', 'year_month','IoTIP', 'IoTIP_int', 'hostMac', 'IoTMac'], axis=1)\n",
    "df2 = pd.get_dummies(df, drop_first=True)\n",
    "\n",
    "X = df2\n",
    "print(X.head())\n",
    "print(y.head())\n",
    "# Split the dataset into training and test sets 20-80\n",
    "X_train, X_test, y_train, y_test = train_test_split(X, y.values.ravel(), test_size=0.2, random_state=seed)\n",
    "\n",
    "# Initialize and train the Random Forest classifier\n",
    "model = RandomForestClassifier(n_estimators=25, random_state=seed)\n",
    "'''\n",
    "selector = sfs(model, direction='forward', cv=2)\n",
    "selector.fit(X_train,y_train)\n",
    "features = selector.get_feature_names_out(list(X))\n",
    "'''\n",
    "\n",
    "model.fit(X_train, y_train)\n",
    "\n",
    "# Make predictions and evaluate the model\n",
    "\n",
    "y_pred = model.predict(X_test)\n",
    "accuracy = accuracy_score(y_test, y_pred)\n",
    "\n",
    "print(f'Accuracy: {accuracy:.5f}')\n",
    "cmatrix = confusion_matrix(y_test, y_pred)\n",
    "for f in cmatrix:\n",
    "    f += 1\n",
    "\n",
    "\n",
    "\n",
    "import seaborn as sns\n",
    "from matplotlib.colors import LogNorm\n",
    "sns.heatmap(cmatrix, annot=False, cmap='coolwarm', norm=LogNorm())"
   ]
  },
  {
   "cell_type": "code",
   "execution_count": null,
   "id": "370ef557",
   "metadata": {},
   "outputs": [],
   "source": []
  }
 ],
 "metadata": {
  "kernelspec": {
   "display_name": "Python 3 (ipykernel)",
   "language": "python",
   "name": "python3"
  },
  "language_info": {
   "codemirror_mode": {
    "name": "ipython",
    "version": 3
   },
   "file_extension": ".py",
   "mimetype": "text/x-python",
   "name": "python",
   "nbconvert_exporter": "python",
   "pygments_lexer": "ipython3",
   "version": "3.11.4"
  }
 },
 "nbformat": 4,
 "nbformat_minor": 5
}
